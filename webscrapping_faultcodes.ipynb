{
 "cells": [
  {
   "cell_type": "code",
   "execution_count": 3,
   "metadata": {},
   "outputs": [],
   "source": [
    "import pandas as pd\n",
    "from splinter import Browser\n",
    "from bs4 import BeautifulSoup\n",
    "\n"
   ]
  },
  {
   "cell_type": "code",
   "execution_count": 158,
   "metadata": {},
   "outputs": [],
   "source": [
    "import pprint as pp"
   ]
  },
  {
   "cell_type": "code",
   "execution_count": 4,
   "metadata": {},
   "outputs": [],
   "source": [
    "cisco_site = \"https://www.cisco.com/c/en/us/td/docs/security/firepower/fxos/fxos271/faults/FXOSFaultsErrorsRef/FXOS_SEMs.html?fbclid=IwAR0f87uB0J7xmYA7zfzPuvLwgvwJWKk9IVFfrvkzyVUgNpajoe_rcr4REkg\""
   ]
  },
  {
   "cell_type": "code",
   "execution_count": 5,
   "metadata": {},
   "outputs": [],
   "source": [
    "executable_path = {'executable_path': 'chromedriver.exe'}\n",
    "browser = Browser('chrome', **executable_path, headless=False)"
   ]
  },
  {
   "cell_type": "code",
   "execution_count": 7,
   "metadata": {},
   "outputs": [],
   "source": [
    "browser.visit(cisco_site)"
   ]
  },
  {
   "cell_type": "code",
   "execution_count": 9,
   "metadata": {},
   "outputs": [],
   "source": [
    "html = browser.html\n",
    "soup = BeautifulSoup(html, \"html.parser\")"
   ]
  },
  {
   "cell_type": "code",
   "execution_count": null,
   "metadata": {},
   "outputs": [],
   "source": [
    "browser.quit()"
   ]
  },
  {
   "cell_type": "code",
   "execution_count": 252,
   "metadata": {},
   "outputs": [],
   "source": [
    "# print(soup.prettify())"
   ]
  },
  {
   "cell_type": "code",
   "execution_count": 133,
   "metadata": {},
   "outputs": [],
   "source": [
    "# grab the p tags that contain the class \"pBl_BlockLabel\"\n",
    "fault_code = soup.find_all(\"p\", class_=\"pBl_BlockLabel\")"
   ]
  },
  {
   "cell_type": "code",
   "execution_count": 78,
   "metadata": {},
   "outputs": [],
   "source": []
  },
  {
   "cell_type": "code",
   "execution_count": 134,
   "metadata": {},
   "outputs": [],
   "source": [
    "# append the fault codes to an empty list\n",
    "fault_code_list = []\n",
    "\n",
    "for f in fault_code:\n",
    "#     print(f.text[0:5])\n",
    "\n",
    "    \n",
    "    if f.text[0:11] == \" Fault Code\":\n",
    "        fault_code_list.append(f.text.split(\" \")[3])\n"
   ]
  },
  {
   "cell_type": "code",
   "execution_count": 136,
   "metadata": {},
   "outputs": [
    {
     "data": {
      "text/plain": [
       "402"
      ]
     },
     "execution_count": 136,
     "metadata": {},
     "output_type": "execute_result"
    }
   ],
   "source": [
    "# fault_code_list\n",
    "len(fault_code_list)"
   ]
  },
  {
   "cell_type": "markdown",
   "metadata": {},
   "source": [
    "## Fault Details"
   ]
  },
  {
   "cell_type": "code",
   "execution_count": 92,
   "metadata": {},
   "outputs": [],
   "source": [
    "# soup.find(\"section\", class_ = \"pEx2_Example2\").find(\"span\").text\n",
    "severity_warning = soup.find_all(\"section\", class_ = \"pEx2_Example2\")"
   ]
  },
  {
   "cell_type": "code",
   "execution_count": 98,
   "metadata": {},
   "outputs": [
    {
     "data": {
      "text/plain": [
       "'Severi'"
      ]
     },
     "execution_count": 98,
     "metadata": {},
     "output_type": "execute_result"
    }
   ],
   "source": [
    "soup.find(\"section\", class_ = \"pEx2_Example2\").find(\"span\").text[0:6]"
   ]
  },
  {
   "cell_type": "code",
   "execution_count": 254,
   "metadata": {},
   "outputs": [],
   "source": [
    "severity_list = []\n",
    "cause_list = []\n",
    "mibFaultCode_list = []\n",
    "mibFaultName_list = []\n",
    "moClass_list = []\n",
    "\n",
    "for a in severity_warning:\n",
    "#     print(a)\n",
    "    if a.find(\"span\").text[0:6] == \"Severi\":\n",
    "        severity_list.append(a.find(\"span\").text.split(\" \")[1])\n",
    "    if a.find(\"span\").text[0:6] == \"Cause:\":\n",
    "        cause_list.append(a.find(\"span\").text.split(\" \")[1])\n",
    "    if a.find(\"span\").text[0:12] == \"mibFaultCode\":\n",
    "        mibFaultCode_list.append(a.find(\"span\").text.split(\" \")[1])\n",
    "    if a.find(\"span\").text[0:12] == \"mibFaultName\":\n",
    "        mibFaultName_list.append(a.find(\"span\").text.split(\" \")[1])\n",
    "    if a.find(\"span\").text[0:6] == \"moClas\":\n",
    "        moClass_list.append(a.find(\"span\").text.split(\" \")[1])"
   ]
  },
  {
   "cell_type": "code",
   "execution_count": 111,
   "metadata": {},
   "outputs": [
    {
     "name": "stdout",
     "output_type": "stream",
     "text": [
      "402\n",
      "402\n",
      "402\n",
      "402\n"
     ]
    }
   ],
   "source": [
    "print(len(cause_list))\n",
    "print(len(mibFaultCode_list))\n",
    "print(len(mibFaultName_list))\n",
    "print(len(moClass_list))"
   ]
  },
  {
   "cell_type": "code",
   "execution_count": 260,
   "metadata": {},
   "outputs": [],
   "source": [
    "# moClass_list"
   ]
  },
  {
   "cell_type": "code",
   "execution_count": 142,
   "metadata": {},
   "outputs": [
    {
     "data": {
      "text/plain": [
       "402"
      ]
     },
     "execution_count": 142,
     "metadata": {},
     "output_type": "execute_result"
    }
   ],
   "source": [
    "len(severity_list)"
   ]
  },
  {
   "cell_type": "code",
   "execution_count": null,
   "metadata": {},
   "outputs": [],
   "source": []
  },
  {
   "cell_type": "markdown",
   "metadata": {},
   "source": [
    "## Scrape Explanation values"
   ]
  },
  {
   "cell_type": "code",
   "execution_count": 151,
   "metadata": {},
   "outputs": [
    {
     "data": {
      "text/plain": [
       "5757"
      ]
     },
     "execution_count": 151,
     "metadata": {},
     "output_type": "execute_result"
    }
   ],
   "source": [
    "all_section = html.find_all(\"section\")\n",
    "len(all_section)"
   ]
  },
  {
   "cell_type": "code",
   "execution_count": 161,
   "metadata": {},
   "outputs": [
    {
     "name": "stdout",
     "output_type": "stream",
     "text": [
      "<h3 class=\"p_H_Head3\"><a name=\"pgfId-2174492\"></a><a name=\"fltFabricComputeSlotEpMisplacedInChassisSlot\"></a>fltFabricComputeSlotEpMisplacedInChassisSlot </h3>\n"
     ]
    }
   ],
   "source": [
    "pp.pprint(all_section[3].find(\"h3\"))"
   ]
  },
  {
   "cell_type": "code",
   "execution_count": 255,
   "metadata": {},
   "outputs": [],
   "source": [
    "# pp.pprint(all_section[1])"
   ]
  },
  {
   "cell_type": "code",
   "execution_count": 212,
   "metadata": {},
   "outputs": [
    {
     "name": "stdout",
     "output_type": "stream",
     "text": [
      "(' This fault typically occurs when Cisco FPR Manager detects a server in a '\n",
      " 'chassis slot that does not match what was previously equipped in the slot. ')\n"
     ]
    }
   ],
   "source": [
    "pp.pprint(all_section[3].find_all(\"p\")[4].text)"
   ]
  },
  {
   "cell_type": "code",
   "execution_count": 228,
   "metadata": {},
   "outputs": [],
   "source": [
    "section_list = []\n",
    "# selected the 3 index and onward because the actual fault reports starts from the 3rd index (section tag)\n",
    "for x in all_section[3:]:\n",
    "    val = x.findChildren(\"h3\", recursive=False)\n",
    "    if val:\n",
    "        section_list.append(x)"
   ]
  },
  {
   "cell_type": "code",
   "execution_count": 240,
   "metadata": {},
   "outputs": [
    {
     "data": {
      "text/plain": [
       "402"
      ]
     },
     "execution_count": 240,
     "metadata": {},
     "output_type": "execute_result"
    }
   ],
   "source": [
    "len(section_list)"
   ]
  },
  {
   "cell_type": "code",
   "execution_count": 246,
   "metadata": {},
   "outputs": [],
   "source": [
    "explanations_list = []\n",
    "# took the 4th index value because I found the explanation paragraph \\\n",
    "# to always be the 4th paragraph tag in each \"section\"\n",
    "for sec in range(len(section_list)):\n",
    "    explanations_list.append(section_list[sec].find_all(\"p\")[4].text)\n"
   ]
  },
  {
   "cell_type": "code",
   "execution_count": 256,
   "metadata": {},
   "outputs": [],
   "source": [
    "# explanations_list"
   ]
  },
  {
   "cell_type": "code",
   "execution_count": 257,
   "metadata": {
    "scrolled": true
   },
   "outputs": [],
   "source": [
    "# pp.pprint(section_list[4])"
   ]
  },
  {
   "cell_type": "code",
   "execution_count": 258,
   "metadata": {},
   "outputs": [],
   "source": [
    "# section_dict_list = []\n",
    "# for x in section_list[3:]:\n",
    "#     text = x.find(\"h3\").text\n",
    "#     value = x.find_all(\"p\")\n"
   ]
  },
  {
   "cell_type": "code",
   "execution_count": null,
   "metadata": {},
   "outputs": [],
   "source": []
  },
  {
   "cell_type": "code",
   "execution_count": 204,
   "metadata": {},
   "outputs": [
    {
     "name": "stdout",
     "output_type": "stream",
     "text": [
      "' Recommended Action '\n"
     ]
    }
   ],
   "source": [
    "# pp.pprint(value[5].text)"
   ]
  },
  {
   "cell_type": "markdown",
   "metadata": {},
   "source": [
    "## variables\n",
    "* fault_code_list\n",
    "* explanations_list\n",
    "* severity_list\n",
    "* cause_list \n",
    "* mibFaultCode_list\n",
    "* mibFaultName_list\n",
    "* moClass_list "
   ]
  },
  {
   "cell_type": "code",
   "execution_count": 261,
   "metadata": {},
   "outputs": [],
   "source": [
    "df = pd.DataFrame({\n",
    "    \"Fault_code\": fault_code_list,\n",
    "    \"Explanation\": explanations_list,\n",
    "    \"Severity\": severity_list,\n",
    "    \"Cause\": cause_list,\n",
    "    \"mibFaultCode\": mibFaultCode_list,\n",
    "    \"mibFaultName\": mibFaultName_list,\n",
    "    \"moClass\": moClass_list\n",
    "})"
   ]
  },
  {
   "cell_type": "code",
   "execution_count": 264,
   "metadata": {},
   "outputs": [
    {
     "data": {
      "text/html": [
       "<div>\n",
       "<style scoped>\n",
       "    .dataframe tbody tr th:only-of-type {\n",
       "        vertical-align: middle;\n",
       "    }\n",
       "\n",
       "    .dataframe tbody tr th {\n",
       "        vertical-align: top;\n",
       "    }\n",
       "\n",
       "    .dataframe thead th {\n",
       "        text-align: right;\n",
       "    }\n",
       "</style>\n",
       "<table border=\"1\" class=\"dataframe\">\n",
       "  <thead>\n",
       "    <tr style=\"text-align: right;\">\n",
       "      <th></th>\n",
       "      <th>Fault_code</th>\n",
       "      <th>Explanation</th>\n",
       "      <th>Severity</th>\n",
       "      <th>Cause</th>\n",
       "      <th>mibFaultCode</th>\n",
       "      <th>mibFaultName</th>\n",
       "      <th>moClass</th>\n",
       "    </tr>\n",
       "  </thead>\n",
       "  <tbody>\n",
       "    <tr>\n",
       "      <th>0</th>\n",
       "      <td>F0156</td>\n",
       "      <td>This fault typically occurs when Cisco FPR Ma...</td>\n",
       "      <td>warning</td>\n",
       "      <td>server-moved</td>\n",
       "      <td>156</td>\n",
       "      <td>fltFabricComputeSlotEpMisplacedInChassisSlot</td>\n",
       "      <td>fabric:ComputeSlotEp</td>\n",
       "    </tr>\n",
       "    <tr>\n",
       "      <th>1</th>\n",
       "      <td>F0157</td>\n",
       "      <td>This fault typically occurs when Cisco FPR Ma...</td>\n",
       "      <td>warning</td>\n",
       "      <td>server-identification-problem</td>\n",
       "      <td>157</td>\n",
       "      <td>fltFabricComputeSlotEpServerIdentificationProblem</td>\n",
       "      <td>fabric:ComputeSlotEp</td>\n",
       "    </tr>\n",
       "    <tr>\n",
       "      <th>2</th>\n",
       "      <td>F0169</td>\n",
       "      <td>This fault typically occurs when Cisco FPR Ma...</td>\n",
       "      <td>minor</td>\n",
       "      <td>configuration-failed</td>\n",
       "      <td>169</td>\n",
       "      <td>fltVnicEtherConfigFailed</td>\n",
       "      <td>vnic:Ether</td>\n",
       "    </tr>\n",
       "    <tr>\n",
       "      <th>3</th>\n",
       "      <td>F0174</td>\n",
       "      <td>This fault occurs in the unlikely event that ...</td>\n",
       "      <td>major</td>\n",
       "      <td>equipment-inoperable</td>\n",
       "      <td>174</td>\n",
       "      <td>fltProcessorUnitInoperable</td>\n",
       "      <td>processor:Unit</td>\n",
       "    </tr>\n",
       "    <tr>\n",
       "      <th>4</th>\n",
       "      <td>F0175</td>\n",
       "      <td>This fault occurs when the processor temperat...</td>\n",
       "      <td>info</td>\n",
       "      <td>thermal-problem</td>\n",
       "      <td>175</td>\n",
       "      <td>fltProcessorUnitThermalNonCritical</td>\n",
       "      <td>processor:Unit</td>\n",
       "    </tr>\n",
       "  </tbody>\n",
       "</table>\n",
       "</div>"
      ],
      "text/plain": [
       "  Fault_code                                        Explanation Severity  \\\n",
       "0      F0156   This fault typically occurs when Cisco FPR Ma...  warning   \n",
       "1      F0157   This fault typically occurs when Cisco FPR Ma...  warning   \n",
       "2      F0169   This fault typically occurs when Cisco FPR Ma...    minor   \n",
       "3      F0174   This fault occurs in the unlikely event that ...    major   \n",
       "4      F0175   This fault occurs when the processor temperat...     info   \n",
       "\n",
       "                           Cause mibFaultCode  \\\n",
       "0                   server-moved          156   \n",
       "1  server-identification-problem          157   \n",
       "2           configuration-failed          169   \n",
       "3           equipment-inoperable          174   \n",
       "4                thermal-problem          175   \n",
       "\n",
       "                                        mibFaultName               moClass  \n",
       "0       fltFabricComputeSlotEpMisplacedInChassisSlot  fabric:ComputeSlotEp  \n",
       "1  fltFabricComputeSlotEpServerIdentificationProblem  fabric:ComputeSlotEp  \n",
       "2                           fltVnicEtherConfigFailed            vnic:Ether  \n",
       "3                         fltProcessorUnitInoperable        processor:Unit  \n",
       "4                 fltProcessorUnitThermalNonCritical        processor:Unit  "
      ]
     },
     "execution_count": 264,
     "metadata": {},
     "output_type": "execute_result"
    }
   ],
   "source": [
    "df.head()"
   ]
  },
  {
   "cell_type": "code",
   "execution_count": null,
   "metadata": {},
   "outputs": [],
   "source": []
  }
 ],
 "metadata": {
  "kernelspec": {
   "display_name": "Python 3",
   "language": "python",
   "name": "python3"
  },
  "language_info": {
   "codemirror_mode": {
    "name": "ipython",
    "version": 3
   },
   "file_extension": ".py",
   "mimetype": "text/x-python",
   "name": "python",
   "nbconvert_exporter": "python",
   "pygments_lexer": "ipython3",
   "version": "3.7.4"
  }
 },
 "nbformat": 4,
 "nbformat_minor": 2
}
